{
  "nbformat": 4,
  "nbformat_minor": 0,
  "metadata": {
    "colab": {
      "name": "Binary_tongue classification.ipynb",
      "provenance": [],
      "mount_file_id": "1vi--iNOfftf5ePwkfbL4zWOClIHpg27Y",
      "authorship_tag": "ABX9TyMJSdFJ7OWN5LXdlAanjjHw",
      "include_colab_link": true
    },
    "kernelspec": {
      "name": "python3",
      "display_name": "Python 3"
    },
    "language_info": {
      "name": "python"
    }
  },
  "cells": [
    {
      "cell_type": "markdown",
      "metadata": {
        "id": "view-in-github",
        "colab_type": "text"
      },
      "source": [
        "<a href=\"https://colab.research.google.com/github/jyotidabass/Binary_tongue_classification/blob/main/Binary_tongue_classification.ipynb\" target=\"_parent\"><img src=\"https://colab.research.google.com/assets/colab-badge.svg\" alt=\"Open In Colab\"/></a>"
      ]
    },
    {
      "cell_type": "code",
      "execution_count": 2,
      "metadata": {
        "colab": {
          "base_uri": "https://localhost:8080/"
        },
        "id": "byu4-QsW1eGF",
        "outputId": "c400a566-eac5-4d90-f7a7-f8fc7f91b102"
      },
      "outputs": [
        {
          "output_type": "stream",
          "name": "stdout",
          "text": [
            "/content/drive/MyDrive/Two class\n"
          ]
        }
      ],
      "source": [
        "%cd /content/drive/MyDrive/Two class"
      ]
    },
    {
      "cell_type": "code",
      "source": [
        "import json\n",
        "import math\n",
        "import os\n",
        "\n",
        "import cv2\n",
        "from PIL import Image\n",
        "import numpy as np\n",
        "from keras import layers\n",
        "from tensorflow.keras.applications import ResNet50, MobileNet, DenseNet201, InceptionV3, NASNetLarge, InceptionResNetV2, NASNetMobile\n",
        "from keras.callbacks import Callback, ModelCheckpoint, ReduceLROnPlateau, TensorBoard\n",
        "from keras.preprocessing.image import ImageDataGenerator\n",
        "from keras.utils.np_utils import to_categorical\n",
        "from keras.models import Sequential\n",
        "from tensorflow.keras.optimizers import Adam\n",
        "import matplotlib.pyplot as plt\n",
        "import pandas as pd\n",
        "from sklearn.model_selection import train_test_split\n",
        "from sklearn.metrics import cohen_kappa_score, accuracy_score\n",
        "import scipy\n",
        "from tqdm import tqdm\n",
        "import tensorflow as tf\n",
        "from keras import backend as K\n",
        "import gc\n",
        "from functools import partial\n",
        "from sklearn import metrics\n",
        "from collections import Counter\n",
        "import json\n",
        "import itertools\n",
        "\n",
        "\n",
        "%matplotlib inline"
      ],
      "metadata": {
        "id": "cT9QNGT01lCT"
      },
      "execution_count": 3,
      "outputs": []
    },
    {
      "cell_type": "code",
      "source": [
        "#Transfer 'jpg' images to an array IMG\n",
        "def Dataset_loader(DIR, RESIZE, sigmaX=10):\n",
        "    IMG = []\n",
        "    read = lambda imname: np.asarray(Image.open(imname).convert(\"RGB\"))\n",
        "    for IMAGE_NAME in tqdm(os.listdir(DIR)):\n",
        "        PATH = os.path.join(DIR,IMAGE_NAME)\n",
        "        _, ftype = os.path.splitext(PATH)\n",
        "        if ftype == \".png\":\n",
        "            img = read(PATH)\n",
        "           \n",
        "            img = cv2.resize(img, (RESIZE,RESIZE))\n",
        "           \n",
        "            IMG.append(np.array(img))\n",
        "    return IMG\n",
        "\n",
        "Kapha_train = np.array(Dataset_loader('/content/drive/MyDrive/Two class/Train/Tongue Image - Kapha',224))\n",
        "Vata_train = np.array(Dataset_loader('/content/drive/MyDrive/Two class/Train/Tongue Image - Vata',224))\n",
        "Kapha_test = np.array(Dataset_loader('/content/drive/MyDrive/Two class/Train/Tongue Image - Kapha',224))\n",
        "Vata_test = np.array(Dataset_loader('/content/drive/MyDrive/Two class/Train/Tongue Image - Vata',224))"
      ],
      "metadata": {
        "colab": {
          "base_uri": "https://localhost:8080/"
        },
        "id": "8fQ3GlGq1xvm",
        "outputId": "7ba710be-747d-4222-e9f4-ebe63c085202"
      },
      "execution_count": 4,
      "outputs": [
        {
          "output_type": "stream",
          "name": "stderr",
          "text": [
            "100%|██████████| 244/244 [00:00<00:00, 407.52it/s]\n",
            "100%|██████████| 189/189 [00:00<00:00, 462.38it/s]\n",
            "100%|██████████| 244/244 [00:00<00:00, 1372.37it/s]\n",
            "100%|██████████| 189/189 [00:00<00:00, 10263.65it/s]\n"
          ]
        }
      ]
    },
    {
      "cell_type": "code",
      "source": [
        "# Skin Cancer: Malignant vs. Benign\n",
        "# Create labels\n",
        "Kapha_train_label = np.zeros(len(Kapha_train))\n",
        "Vata_train_label = np.ones(len(Vata_train))\n",
        "Kapha_test_label = np.zeros(len(Kapha_test))\n",
        "Vata_test_label = np.ones(len(Vata_test))\n",
        "\n",
        "# Merge data \n",
        "X_train = np.concatenate((Kapha_train, Vata_train), axis = 0)\n",
        "Y_train = np.concatenate((Kapha_train_label, Vata_train_label), axis = 0)\n",
        "X_test = np.concatenate((Kapha_test, Vata_test), axis = 0)\n",
        "Y_test = np.concatenate((Kapha_test_label, Vata_test_label), axis = 0)\n",
        "\n",
        "# Shuffle train data\n",
        "s = np.arange(X_train.shape[0])\n",
        "np.random.shuffle(s)\n",
        "X_train = X_train[s]\n",
        "Y_train = Y_train[s]\n",
        "\n",
        "# Shuffle test data\n",
        "s = np.arange(X_test.shape[0])\n",
        "np.random.shuffle(s)\n",
        "X_test = X_test[s]\n",
        "Y_test = Y_test[s]\n",
        "\n",
        "# To categorical\n",
        "Y_train = to_categorical(Y_train, num_classes= 2)\n",
        "Y_test = to_categorical(Y_test, num_classes= 2)"
      ],
      "metadata": {
        "id": "J8RyZIOe2M4Q"
      },
      "execution_count": 5,
      "outputs": []
    },
    {
      "cell_type": "code",
      "source": [
        "x_train, x_val, y_train, y_val = train_test_split(\n",
        "    X_train, Y_train, \n",
        "    test_size=0.2, \n",
        "    random_state=11\n",
        ")"
      ],
      "metadata": {
        "id": "uK0x2UN03NRt"
      },
      "execution_count": 6,
      "outputs": []
    },
    {
      "cell_type": "code",
      "source": [
        "BATCH_SIZE = 16\n",
        "\n",
        "# Using original generator\n",
        "train_generator = ImageDataGenerator(\n",
        "        zoom_range=2,  # set range for random zoom\n",
        "        rotation_range = 90,\n",
        "        horizontal_flip=True,  # randomly flip images\n",
        "        vertical_flip=True,  # randomly flip images\n",
        "    )"
      ],
      "metadata": {
        "id": "RepOIHKV3WYR"
      },
      "execution_count": 7,
      "outputs": []
    },
    {
      "cell_type": "code",
      "source": [
        "def build_model(backbone, lr=1e-4):\n",
        "    model = Sequential()\n",
        "    model.add(backbone)\n",
        "    model.add(layers.GlobalAveragePooling2D())\n",
        "    model.add(layers.Dropout(0.5))\n",
        "    model.add(layers.BatchNormalization())\n",
        "    model.add(layers.Dense(2, activation='softmax'))\n",
        "    \n",
        "    \n",
        "    model.compile(\n",
        "        loss='binary_crossentropy',\n",
        "        optimizer=Adam(lr=lr),\n",
        "        metrics=['accuracy']\n",
        "    )\n",
        "    \n",
        "    return model"
      ],
      "metadata": {
        "id": "Ct_jLFFa3bH5"
      },
      "execution_count": 8,
      "outputs": []
    },
    {
      "cell_type": "code",
      "source": [
        "K.clear_session()\n",
        "gc.collect()\n",
        "\n",
        "resnet = DenseNet201(\n",
        "    weights='imagenet',\n",
        "    include_top=False,\n",
        "    input_shape=(224,224,3)\n",
        ")\n",
        "\n",
        "\n",
        "\n",
        "model = build_model(resnet ,lr = 1e-4)\n",
        "model.summary()"
      ],
      "metadata": {
        "colab": {
          "base_uri": "https://localhost:8080/"
        },
        "id": "r3SVCdsR3cVy",
        "outputId": "5dfc0861-14fe-4d2e-d664-1bfc5ad21098"
      },
      "execution_count": 9,
      "outputs": [
        {
          "output_type": "stream",
          "name": "stdout",
          "text": [
            "Downloading data from https://storage.googleapis.com/tensorflow/keras-applications/densenet/densenet201_weights_tf_dim_ordering_tf_kernels_notop.h5\n",
            "74842112/74836368 [==============================] - 1s 0us/step\n",
            "74850304/74836368 [==============================] - 1s 0us/step\n",
            "Model: \"sequential\"\n",
            "_________________________________________________________________\n",
            " Layer (type)                Output Shape              Param #   \n",
            "=================================================================\n",
            " densenet201 (Functional)    (None, 7, 7, 1920)        18321984  \n",
            "                                                                 \n",
            " global_average_pooling2d (G  (None, 1920)             0         \n",
            " lobalAveragePooling2D)                                          \n",
            "                                                                 \n",
            " dropout (Dropout)           (None, 1920)              0         \n",
            "                                                                 \n",
            " batch_normalization (BatchN  (None, 1920)             7680      \n",
            " ormalization)                                                   \n",
            "                                                                 \n",
            " dense (Dense)               (None, 2)                 3842      \n",
            "                                                                 \n",
            "=================================================================\n",
            "Total params: 18,333,506\n",
            "Trainable params: 18,100,610\n",
            "Non-trainable params: 232,896\n",
            "_________________________________________________________________\n"
          ]
        },
        {
          "output_type": "stream",
          "name": "stderr",
          "text": [
            "/usr/local/lib/python3.7/dist-packages/keras/optimizer_v2/adam.py:105: UserWarning: The `lr` argument is deprecated, use `learning_rate` instead.\n",
            "  super(Adam, self).__init__(name, **kwargs)\n"
          ]
        }
      ]
    },
    {
      "cell_type": "code",
      "source": [
        "#Learning Rate Reducer\n",
        "learn_control = ReduceLROnPlateau(monitor='val_acc', patience=5,\n",
        "                                  verbose=1,factor=0.2, min_lr=1e-7)\n",
        "\n",
        "# Checkpoint\n",
        "filepath=\"weights.best.hdf5\"\n",
        "checkpoint = ModelCheckpoint(filepath, monitor='val_acc', verbose=1, save_best_only=True, mode='max')"
      ],
      "metadata": {
        "id": "LgtI_45K3pyp"
      },
      "execution_count": 10,
      "outputs": []
    },
    {
      "cell_type": "code",
      "source": [
        "\n",
        "# Import Statements\n",
        "from keras.layers import Dense\n",
        "from keras.models import Sequential\n",
        "from keras.layers import Convolution2D\n",
        "from keras.layers import MaxPool2D\n",
        "from keras.layers import Flatten\n",
        "\n",
        "#Initialising CNN\n",
        "classifier = Sequential()\n",
        "\n",
        "#Adding Convolution Layer 1\n",
        "\n",
        "classifier.add(Convolution2D(32,3,3,input_shape=(64,64,3),activation='relu'))\n",
        "#Pooling\n",
        "classifier.add(MaxPool2D(pool_size=(2,2)))\n",
        "\n",
        "#Adding Convolution Layer 2\n",
        "\n",
        "classifier.add(Convolution2D(32,3,3,activation='relu'))\n",
        "classifier.add(MaxPool2D(pool_size=(2,2)))\n",
        "\n",
        "#Flatten\n",
        "classifier.add(Flatten())\n",
        "\n",
        "#Full Connection\n",
        "classifier.add(Dense(128,activation='relu'))\n",
        "#classifier.add(Dense(output_dim=64,activation='relu'))\n",
        "classifier.add(Dense(1,activation='sigmoid'))\n",
        "\n",
        "#compile\n",
        "classifier.compile(optimizer='adam',loss='binary_crossentropy',metrics=['accuracy'])\n",
        "\n",
        "#Fitting the model to images\n",
        "from keras.preprocessing.image import ImageDataGenerator\n",
        "train_datagen = ImageDataGenerator(rescale=1./255,\n",
        "                                   shear_range=0.2,\n",
        "                                   zoom_range=0.2,\n",
        "                                   horizontal_flip=True)\n",
        "\n",
        "test_datagen= ImageDataGenerator(rescale=1./255)\n",
        "\n",
        "training_set = train_datagen.flow_from_directory('/content/drive/MyDrive/Two class/Train',\n",
        "                                                    target_size=(64,64),\n",
        "                                                    batch_size=32,\n",
        "                                                    class_mode='binary')\n",
        "\n",
        "test_set = test_datagen.flow_from_directory('/content/drive/MyDrive/Two class/Train',\n",
        "                                                        target_size=(64,64),\n",
        "                                                        batch_size=32,\n",
        "                                                        class_mode='binary')\n",
        "\n",
        "classifier.fit_generator(training_set,\n",
        "                        steps_per_epoch=10,\n",
        "                        epochs=5,\n",
        "                        validation_data=test_set,\n",
        "                        validation_steps=2,\n",
        "                        workers=2\n",
        "                        )"
      ],
      "metadata": {
        "colab": {
          "base_uri": "https://localhost:8080/"
        },
        "id": "dsB2cw8m4TRI",
        "outputId": "45b504e7-ffb2-419b-b04f-658a56d60a92"
      },
      "execution_count": 13,
      "outputs": [
        {
          "output_type": "stream",
          "name": "stdout",
          "text": [
            "Found 426 images belonging to 2 classes.\n",
            "Found 426 images belonging to 2 classes.\n"
          ]
        },
        {
          "output_type": "stream",
          "name": "stderr",
          "text": [
            "/usr/local/lib/python3.7/dist-packages/ipykernel_launcher.py:58: UserWarning: `Model.fit_generator` is deprecated and will be removed in a future version. Please use `Model.fit`, which supports generators.\n"
          ]
        },
        {
          "output_type": "stream",
          "name": "stdout",
          "text": [
            "Epoch 1/5\n",
            "10/10 [==============================] - 58s 6s/step - loss: 0.6877 - accuracy: 0.5369 - val_loss: 0.6963 - val_accuracy: 0.5312\n",
            "Epoch 2/5\n",
            "10/10 [==============================] - 58s 5s/step - loss: 0.6831 - accuracy: 0.5738 - val_loss: 0.6834 - val_accuracy: 0.5469\n",
            "Epoch 3/5\n",
            "10/10 [==============================] - 51s 4s/step - loss: 0.6843 - accuracy: 0.5705 - val_loss: 0.6861 - val_accuracy: 0.5625\n",
            "Epoch 4/5\n",
            "10/10 [==============================] - 46s 5s/step - loss: 0.6821 - accuracy: 0.5772 - val_loss: 0.6568 - val_accuracy: 0.6406\n",
            "Epoch 5/5\n",
            "10/10 [==============================] - 44s 4s/step - loss: 0.6765 - accuracy: 0.5844 - val_loss: 0.6871 - val_accuracy: 0.5625\n"
          ]
        },
        {
          "output_type": "execute_result",
          "data": {
            "text/plain": [
              "<keras.callbacks.History at 0x7efdba888890>"
            ]
          },
          "metadata": {},
          "execution_count": 13
        }
      ]
    }
  ]
}